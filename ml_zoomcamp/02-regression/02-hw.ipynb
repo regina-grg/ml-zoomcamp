{
 "cells": [
  {
   "cell_type": "markdown",
   "id": "b50bfabf-e207-4db3-84db-4c3bd517b63b",
   "metadata": {},
   "source": [
    "## Homework 2  - Regression"
   ]
  },
  {
   "cell_type": "code",
   "execution_count": 1,
   "id": "2985d24a-64c5-4f76-b0cd-6b3bbdc6dacc",
   "metadata": {},
   "outputs": [],
   "source": [
    "import pandas as pd\n",
    "import numpy as np\n",
    "import matplotlib.pyplot as plt\n",
    "import seaborn as sns\n",
    "\n",
    "%matplotlib inline"
   ]
  },
  {
   "cell_type": "code",
   "execution_count": 2,
   "id": "e8267f20-21c0-4789-a4a8-da91586c945b",
   "metadata": {},
   "outputs": [],
   "source": [
    "import warnings\n",
    "warnings.filterwarnings('ignore')"
   ]
  },
  {
   "cell_type": "code",
   "execution_count": 3,
   "id": "d052f921-88e9-40d2-aee4-3ac6e9a9951f",
   "metadata": {},
   "outputs": [
    {
     "name": "stdout",
     "output_type": "stream",
     "text": [
      "--2023-09-24 11:35:58--  https://raw.githubusercontent.com/alexeygrigorev/datasets/master/housing.csv\n",
      "Resolving raw.githubusercontent.com (raw.githubusercontent.com)... 185.199.108.133, 185.199.111.133, 185.199.110.133, ...\n",
      "Connecting to raw.githubusercontent.com (raw.githubusercontent.com)|185.199.108.133|:443... connected.\n",
      "HTTP request sent, awaiting response... 200 OK\n",
      "Length: 1423529 (1,4M) [text/plain]\n",
      "Saving to: ‘housing.csv’\n",
      "\n",
      "housing.csv         100%[===================>]   1,36M  --.-KB/s    in 0,1s    \n",
      "\n",
      "2023-09-24 11:35:58 (11,8 MB/s) - ‘housing.csv’ saved [1423529/1423529]\n",
      "\n"
     ]
    }
   ],
   "source": [
    "#! wget https://raw.githubusercontent.com/alexeygrigorev/datasets/master/housing.csv"
   ]
  },
  {
   "cell_type": "code",
   "execution_count": 34,
   "id": "0e154d28-ba2f-4c17-85b3-999371db220b",
   "metadata": {},
   "outputs": [],
   "source": [
    "df = pd.read_csv('housing.csv')"
   ]
  },
  {
   "cell_type": "code",
   "execution_count": 35,
   "id": "0e2ceed3-9bb5-4215-88ce-49b3710c6e5b",
   "metadata": {},
   "outputs": [
    {
     "data": {
      "text/html": [
       "<div>\n",
       "<style scoped>\n",
       "    .dataframe tbody tr th:only-of-type {\n",
       "        vertical-align: middle;\n",
       "    }\n",
       "\n",
       "    .dataframe tbody tr th {\n",
       "        vertical-align: top;\n",
       "    }\n",
       "\n",
       "    .dataframe thead th {\n",
       "        text-align: right;\n",
       "    }\n",
       "</style>\n",
       "<table border=\"1\" class=\"dataframe\">\n",
       "  <thead>\n",
       "    <tr style=\"text-align: right;\">\n",
       "      <th></th>\n",
       "      <th>longitude</th>\n",
       "      <th>latitude</th>\n",
       "      <th>housing_median_age</th>\n",
       "      <th>total_rooms</th>\n",
       "      <th>total_bedrooms</th>\n",
       "      <th>population</th>\n",
       "      <th>households</th>\n",
       "      <th>median_income</th>\n",
       "      <th>median_house_value</th>\n",
       "      <th>ocean_proximity</th>\n",
       "    </tr>\n",
       "  </thead>\n",
       "  <tbody>\n",
       "    <tr>\n",
       "      <th>0</th>\n",
       "      <td>-122.23</td>\n",
       "      <td>37.88</td>\n",
       "      <td>41.0</td>\n",
       "      <td>880.0</td>\n",
       "      <td>129.0</td>\n",
       "      <td>322.0</td>\n",
       "      <td>126.0</td>\n",
       "      <td>8.3252</td>\n",
       "      <td>452600.0</td>\n",
       "      <td>NEAR BAY</td>\n",
       "    </tr>\n",
       "    <tr>\n",
       "      <th>1</th>\n",
       "      <td>-122.22</td>\n",
       "      <td>37.86</td>\n",
       "      <td>21.0</td>\n",
       "      <td>7099.0</td>\n",
       "      <td>1106.0</td>\n",
       "      <td>2401.0</td>\n",
       "      <td>1138.0</td>\n",
       "      <td>8.3014</td>\n",
       "      <td>358500.0</td>\n",
       "      <td>NEAR BAY</td>\n",
       "    </tr>\n",
       "    <tr>\n",
       "      <th>2</th>\n",
       "      <td>-122.24</td>\n",
       "      <td>37.85</td>\n",
       "      <td>52.0</td>\n",
       "      <td>1467.0</td>\n",
       "      <td>190.0</td>\n",
       "      <td>496.0</td>\n",
       "      <td>177.0</td>\n",
       "      <td>7.2574</td>\n",
       "      <td>352100.0</td>\n",
       "      <td>NEAR BAY</td>\n",
       "    </tr>\n",
       "    <tr>\n",
       "      <th>3</th>\n",
       "      <td>-122.25</td>\n",
       "      <td>37.85</td>\n",
       "      <td>52.0</td>\n",
       "      <td>1274.0</td>\n",
       "      <td>235.0</td>\n",
       "      <td>558.0</td>\n",
       "      <td>219.0</td>\n",
       "      <td>5.6431</td>\n",
       "      <td>341300.0</td>\n",
       "      <td>NEAR BAY</td>\n",
       "    </tr>\n",
       "    <tr>\n",
       "      <th>4</th>\n",
       "      <td>-122.25</td>\n",
       "      <td>37.85</td>\n",
       "      <td>52.0</td>\n",
       "      <td>1627.0</td>\n",
       "      <td>280.0</td>\n",
       "      <td>565.0</td>\n",
       "      <td>259.0</td>\n",
       "      <td>3.8462</td>\n",
       "      <td>342200.0</td>\n",
       "      <td>NEAR BAY</td>\n",
       "    </tr>\n",
       "    <tr>\n",
       "      <th>...</th>\n",
       "      <td>...</td>\n",
       "      <td>...</td>\n",
       "      <td>...</td>\n",
       "      <td>...</td>\n",
       "      <td>...</td>\n",
       "      <td>...</td>\n",
       "      <td>...</td>\n",
       "      <td>...</td>\n",
       "      <td>...</td>\n",
       "      <td>...</td>\n",
       "    </tr>\n",
       "    <tr>\n",
       "      <th>20635</th>\n",
       "      <td>-121.09</td>\n",
       "      <td>39.48</td>\n",
       "      <td>25.0</td>\n",
       "      <td>1665.0</td>\n",
       "      <td>374.0</td>\n",
       "      <td>845.0</td>\n",
       "      <td>330.0</td>\n",
       "      <td>1.5603</td>\n",
       "      <td>78100.0</td>\n",
       "      <td>INLAND</td>\n",
       "    </tr>\n",
       "    <tr>\n",
       "      <th>20636</th>\n",
       "      <td>-121.21</td>\n",
       "      <td>39.49</td>\n",
       "      <td>18.0</td>\n",
       "      <td>697.0</td>\n",
       "      <td>150.0</td>\n",
       "      <td>356.0</td>\n",
       "      <td>114.0</td>\n",
       "      <td>2.5568</td>\n",
       "      <td>77100.0</td>\n",
       "      <td>INLAND</td>\n",
       "    </tr>\n",
       "    <tr>\n",
       "      <th>20637</th>\n",
       "      <td>-121.22</td>\n",
       "      <td>39.43</td>\n",
       "      <td>17.0</td>\n",
       "      <td>2254.0</td>\n",
       "      <td>485.0</td>\n",
       "      <td>1007.0</td>\n",
       "      <td>433.0</td>\n",
       "      <td>1.7000</td>\n",
       "      <td>92300.0</td>\n",
       "      <td>INLAND</td>\n",
       "    </tr>\n",
       "    <tr>\n",
       "      <th>20638</th>\n",
       "      <td>-121.32</td>\n",
       "      <td>39.43</td>\n",
       "      <td>18.0</td>\n",
       "      <td>1860.0</td>\n",
       "      <td>409.0</td>\n",
       "      <td>741.0</td>\n",
       "      <td>349.0</td>\n",
       "      <td>1.8672</td>\n",
       "      <td>84700.0</td>\n",
       "      <td>INLAND</td>\n",
       "    </tr>\n",
       "    <tr>\n",
       "      <th>20639</th>\n",
       "      <td>-121.24</td>\n",
       "      <td>39.37</td>\n",
       "      <td>16.0</td>\n",
       "      <td>2785.0</td>\n",
       "      <td>616.0</td>\n",
       "      <td>1387.0</td>\n",
       "      <td>530.0</td>\n",
       "      <td>2.3886</td>\n",
       "      <td>89400.0</td>\n",
       "      <td>INLAND</td>\n",
       "    </tr>\n",
       "  </tbody>\n",
       "</table>\n",
       "<p>20640 rows × 10 columns</p>\n",
       "</div>"
      ],
      "text/plain": [
       "       longitude  latitude  housing_median_age  total_rooms  total_bedrooms  \\\n",
       "0        -122.23     37.88                41.0        880.0           129.0   \n",
       "1        -122.22     37.86                21.0       7099.0          1106.0   \n",
       "2        -122.24     37.85                52.0       1467.0           190.0   \n",
       "3        -122.25     37.85                52.0       1274.0           235.0   \n",
       "4        -122.25     37.85                52.0       1627.0           280.0   \n",
       "...          ...       ...                 ...          ...             ...   \n",
       "20635    -121.09     39.48                25.0       1665.0           374.0   \n",
       "20636    -121.21     39.49                18.0        697.0           150.0   \n",
       "20637    -121.22     39.43                17.0       2254.0           485.0   \n",
       "20638    -121.32     39.43                18.0       1860.0           409.0   \n",
       "20639    -121.24     39.37                16.0       2785.0           616.0   \n",
       "\n",
       "       population  households  median_income  median_house_value  \\\n",
       "0           322.0       126.0         8.3252            452600.0   \n",
       "1          2401.0      1138.0         8.3014            358500.0   \n",
       "2           496.0       177.0         7.2574            352100.0   \n",
       "3           558.0       219.0         5.6431            341300.0   \n",
       "4           565.0       259.0         3.8462            342200.0   \n",
       "...           ...         ...            ...                 ...   \n",
       "20635       845.0       330.0         1.5603             78100.0   \n",
       "20636       356.0       114.0         2.5568             77100.0   \n",
       "20637      1007.0       433.0         1.7000             92300.0   \n",
       "20638       741.0       349.0         1.8672             84700.0   \n",
       "20639      1387.0       530.0         2.3886             89400.0   \n",
       "\n",
       "      ocean_proximity  \n",
       "0            NEAR BAY  \n",
       "1            NEAR BAY  \n",
       "2            NEAR BAY  \n",
       "3            NEAR BAY  \n",
       "4            NEAR BAY  \n",
       "...               ...  \n",
       "20635          INLAND  \n",
       "20636          INLAND  \n",
       "20637          INLAND  \n",
       "20638          INLAND  \n",
       "20639          INLAND  \n",
       "\n",
       "[20640 rows x 10 columns]"
      ]
     },
     "execution_count": 35,
     "metadata": {},
     "output_type": "execute_result"
    }
   ],
   "source": [
    "df"
   ]
  },
  {
   "cell_type": "markdown",
   "id": "6abd9078-1888-4a45-9a58-13e73ca24bac",
   "metadata": {},
   "source": [
    "## 1. EDA - Exploratory data analysis\n",
    "Look at the median_house_value variable. Does it have a long tail?"
   ]
  },
  {
   "cell_type": "code",
   "execution_count": 7,
   "id": "ec906b6c-b359-4ef4-b5e6-31be58dd5f65",
   "metadata": {},
   "outputs": [
    {
     "name": "stdout",
     "output_type": "stream",
     "text": [
      "0\n",
      "500001.0\n",
      "14999.0\n"
     ]
    }
   ],
   "source": [
    "print(df.median_house_value.isnull().sum())\n",
    "print(df.median_house_value.max())\n",
    "print(df.median_house_value.min())"
   ]
  },
  {
   "cell_type": "code",
   "execution_count": 6,
   "id": "af78e4ad-74c9-4ef0-8cc4-a1650aa79acf",
   "metadata": {},
   "outputs": [
    {
     "data": {
      "text/plain": [
       "<Axes: xlabel='median_house_value', ylabel='Count'>"
      ]
     },
     "execution_count": 6,
     "metadata": {},
     "output_type": "execute_result"
    },
    {
     "data": {
      "image/png": "[encoded data removed]",
      "text/plain": [
       "<Figure size 640x480 with 1 Axes>"
      ]
     },
     "metadata": {},
     "output_type": "display_data"
    }
   ],
   "source": [
    "sns.histplot(df.median_house_value, bins=100)"
   ]
  },
  {
   "cell_type": "markdown",
   "id": "efdff307-1200-4a95-bf4e-9732385829a2",
   "metadata": {},
   "source": [
    "## data preperation   \n",
    "First, keep only the records where ocean_proximity is either '<1H OCEAN' or 'INLAND'  \n",
    "Next, use only the following columns:\n",
    "\n",
    "'latitude',\n",
    "'longitude',\n",
    "'housing_median_age',\n",
    "'total_rooms',\n",
    "'total_bedrooms',\n",
    "'population',\n",
    "'households',\n",
    "'median_income',\n",
    "'median_house_value'"
   ]
  },
  {
   "cell_type": "code",
   "execution_count": 16,
   "id": "26342d94-b92f-4f04-b376-1d0f77f44db4",
   "metadata": {},
   "outputs": [
    {
     "data": {
      "text/plain": [
       "array(['NEAR BAY', '<1H OCEAN', 'INLAND', 'NEAR OCEAN', 'ISLAND'],\n",
       "      dtype=object)"
      ]
     },
     "execution_count": 16,
     "metadata": {},
     "output_type": "execute_result"
    }
   ],
   "source": [
    "df.ocean_proximity.unique()"
   ]
  },
  {
   "cell_type": "code",
   "execution_count": 36,
   "id": "ffa62bdd-ad0b-4393-8086-a7aafdc07689",
   "metadata": {},
   "outputs": [
    {
     "data": {
      "text/html": [
       "<div>\n",
       "<style scoped>\n",
       "    .dataframe tbody tr th:only-of-type {\n",
       "        vertical-align: middle;\n",
       "    }\n",
       "\n",
       "    .dataframe tbody tr th {\n",
       "        vertical-align: top;\n",
       "    }\n",
       "\n",
       "    .dataframe thead th {\n",
       "        text-align: right;\n",
       "    }\n",
       "</style>\n",
       "<table border=\"1\" class=\"dataframe\">\n",
       "  <thead>\n",
       "    <tr style=\"text-align: right;\">\n",
       "      <th></th>\n",
       "      <th>latitude</th>\n",
       "      <th>longitude</th>\n",
       "      <th>housing_median_age</th>\n",
       "      <th>total_rooms</th>\n",
       "      <th>total_bedrooms</th>\n",
       "      <th>population</th>\n",
       "      <th>households</th>\n",
       "      <th>median_income</th>\n",
       "      <th>median_house_value</th>\n",
       "    </tr>\n",
       "  </thead>\n",
       "  <tbody>\n",
       "    <tr>\n",
       "      <th>701</th>\n",
       "      <td>37.64</td>\n",
       "      <td>-121.97</td>\n",
       "      <td>32.0</td>\n",
       "      <td>1283.0</td>\n",
       "      <td>194.0</td>\n",
       "      <td>485.0</td>\n",
       "      <td>171.0</td>\n",
       "      <td>6.0574</td>\n",
       "      <td>431000.0</td>\n",
       "    </tr>\n",
       "    <tr>\n",
       "      <th>830</th>\n",
       "      <td>37.61</td>\n",
       "      <td>-121.99</td>\n",
       "      <td>9.0</td>\n",
       "      <td>3666.0</td>\n",
       "      <td>711.0</td>\n",
       "      <td>2341.0</td>\n",
       "      <td>703.0</td>\n",
       "      <td>4.6458</td>\n",
       "      <td>217000.0</td>\n",
       "    </tr>\n",
       "    <tr>\n",
       "      <th>859</th>\n",
       "      <td>37.57</td>\n",
       "      <td>-121.97</td>\n",
       "      <td>21.0</td>\n",
       "      <td>4342.0</td>\n",
       "      <td>783.0</td>\n",
       "      <td>2172.0</td>\n",
       "      <td>789.0</td>\n",
       "      <td>4.6146</td>\n",
       "      <td>247600.0</td>\n",
       "    </tr>\n",
       "    <tr>\n",
       "      <th>860</th>\n",
       "      <td>37.58</td>\n",
       "      <td>-121.96</td>\n",
       "      <td>15.0</td>\n",
       "      <td>3575.0</td>\n",
       "      <td>597.0</td>\n",
       "      <td>1777.0</td>\n",
       "      <td>559.0</td>\n",
       "      <td>5.7192</td>\n",
       "      <td>283500.0</td>\n",
       "    </tr>\n",
       "    <tr>\n",
       "      <th>861</th>\n",
       "      <td>37.58</td>\n",
       "      <td>-121.98</td>\n",
       "      <td>20.0</td>\n",
       "      <td>4126.0</td>\n",
       "      <td>1031.0</td>\n",
       "      <td>2079.0</td>\n",
       "      <td>975.0</td>\n",
       "      <td>3.6832</td>\n",
       "      <td>216900.0</td>\n",
       "    </tr>\n",
       "    <tr>\n",
       "      <th>...</th>\n",
       "      <td>...</td>\n",
       "      <td>...</td>\n",
       "      <td>...</td>\n",
       "      <td>...</td>\n",
       "      <td>...</td>\n",
       "      <td>...</td>\n",
       "      <td>...</td>\n",
       "      <td>...</td>\n",
       "      <td>...</td>\n",
       "    </tr>\n",
       "    <tr>\n",
       "      <th>20635</th>\n",
       "      <td>39.48</td>\n",
       "      <td>-121.09</td>\n",
       "      <td>25.0</td>\n",
       "      <td>1665.0</td>\n",
       "      <td>374.0</td>\n",
       "      <td>845.0</td>\n",
       "      <td>330.0</td>\n",
       "      <td>1.5603</td>\n",
       "      <td>78100.0</td>\n",
       "    </tr>\n",
       "    <tr>\n",
       "      <th>20636</th>\n",
       "      <td>39.49</td>\n",
       "      <td>-121.21</td>\n",
       "      <td>18.0</td>\n",
       "      <td>697.0</td>\n",
       "      <td>150.0</td>\n",
       "      <td>356.0</td>\n",
       "      <td>114.0</td>\n",
       "      <td>2.5568</td>\n",
       "      <td>77100.0</td>\n",
       "    </tr>\n",
       "    <tr>\n",
       "      <th>20637</th>\n",
       "      <td>39.43</td>\n",
       "      <td>-121.22</td>\n",
       "      <td>17.0</td>\n",
       "      <td>2254.0</td>\n",
       "      <td>485.0</td>\n",
       "      <td>1007.0</td>\n",
       "      <td>433.0</td>\n",
       "      <td>1.7000</td>\n",
       "      <td>92300.0</td>\n",
       "    </tr>\n",
       "    <tr>\n",
       "      <th>20638</th>\n",
       "      <td>39.43</td>\n",
       "      <td>-121.32</td>\n",
       "      <td>18.0</td>\n",
       "      <td>1860.0</td>\n",
       "      <td>409.0</td>\n",
       "      <td>741.0</td>\n",
       "      <td>349.0</td>\n",
       "      <td>1.8672</td>\n",
       "      <td>84700.0</td>\n",
       "    </tr>\n",
       "    <tr>\n",
       "      <th>20639</th>\n",
       "      <td>39.37</td>\n",
       "      <td>-121.24</td>\n",
       "      <td>16.0</td>\n",
       "      <td>2785.0</td>\n",
       "      <td>616.0</td>\n",
       "      <td>1387.0</td>\n",
       "      <td>530.0</td>\n",
       "      <td>2.3886</td>\n",
       "      <td>89400.0</td>\n",
       "    </tr>\n",
       "  </tbody>\n",
       "</table>\n",
       "<p>15687 rows × 9 columns</p>\n",
       "</div>"
      ],
      "text/plain": [
       "       latitude  longitude  housing_median_age  total_rooms  total_bedrooms  \\\n",
       "701       37.64    -121.97                32.0       1283.0           194.0   \n",
       "830       37.61    -121.99                 9.0       3666.0           711.0   \n",
       "859       37.57    -121.97                21.0       4342.0           783.0   \n",
       "860       37.58    -121.96                15.0       3575.0           597.0   \n",
       "861       37.58    -121.98                20.0       4126.0          1031.0   \n",
       "...         ...        ...                 ...          ...             ...   \n",
       "20635     39.48    -121.09                25.0       1665.0           374.0   \n",
       "20636     39.49    -121.21                18.0        697.0           150.0   \n",
       "20637     39.43    -121.22                17.0       2254.0           485.0   \n",
       "20638     39.43    -121.32                18.0       1860.0           409.0   \n",
       "20639     39.37    -121.24                16.0       2785.0           616.0   \n",
       "\n",
       "       population  households  median_income  median_house_value  \n",
       "701         485.0       171.0         6.0574            431000.0  \n",
       "830        2341.0       703.0         4.6458            217000.0  \n",
       "859        2172.0       789.0         4.6146            247600.0  \n",
       "860        1777.0       559.0         5.7192            283500.0  \n",
       "861        2079.0       975.0         3.6832            216900.0  \n",
       "...           ...         ...            ...                 ...  \n",
       "20635       845.0       330.0         1.5603             78100.0  \n",
       "20636       356.0       114.0         2.5568             77100.0  \n",
       "20637      1007.0       433.0         1.7000             92300.0  \n",
       "20638       741.0       349.0         1.8672             84700.0  \n",
       "20639      1387.0       530.0         2.3886             89400.0  \n",
       "\n",
       "[15687 rows x 9 columns]"
      ]
     },
     "execution_count": 36,
     "metadata": {},
     "output_type": "execute_result"
    }
   ],
   "source": [
    "df_data = df[df.ocean_proximity.isin(['<1H OCEAN','INLAND'])]\n",
    "df_data = df_data[['latitude', 'longitude', 'housing_median_age', 'total_rooms', 'total_bedrooms', 'population', 'households', 'median_income', 'median_house_value']]\n",
    "df_data"
   ]
  },
  {
   "cell_type": "markdown",
   "id": "1132116e-e382-4b05-9adc-7e9fe3cc3608",
   "metadata": {},
   "source": [
    "### Question 1\n",
    "There's one feature with missing values. What is it?  \n",
    "- total_bedrooms"
   ]
  },
  {
   "cell_type": "code",
   "execution_count": 28,
   "id": "cd7f9069-59dd-419b-94b9-18ab61baa554",
   "metadata": {},
   "outputs": [
    {
     "data": {
      "text/plain": [
       "latitude                0\n",
       "longitude               0\n",
       "housing_median_age      0\n",
       "total_rooms             0\n",
       "total_bedrooms        157\n",
       "population              0\n",
       "households              0\n",
       "median_income           0\n",
       "median_house_value      0\n",
       "dtype: int64"
      ]
     },
     "execution_count": 28,
     "metadata": {},
     "output_type": "execute_result"
    }
   ],
   "source": [
    "df_data.isnull().sum()"
   ]
  },
  {
   "cell_type": "markdown",
   "id": "222ff71a-5753-4813-89dc-8b9456f40668",
   "metadata": {},
   "source": [
    "### Question 2\n",
    "What's the median (50% percentile) for variable 'population'?"
   ]
  },
  {
   "cell_type": "code",
   "execution_count": 31,
   "id": "e215df25-740c-4ac1-9e3a-7a36e0c1860a",
   "metadata": {},
   "outputs": [
    {
     "name": "stdout",
     "output_type": "stream",
     "text": [
      "1195.0\n",
      "1195.0\n"
     ]
    }
   ],
   "source": [
    "print(df_data.population.median())\n",
    "print(df_data.population.quantile(q=0.5))"
   ]
  },
  {
   "cell_type": "markdown",
   "id": "1f306b19-8d31-4d37-8568-56720cbf3efe",
   "metadata": {},
   "source": [
    "Prepare and split the dataset  \n",
    "Shuffle the dataset (the filtered one you created above), use seed 42.  \n",
    "Split your data in train/val/test sets, with 60%/20%/20% distribution.  \n",
    "Apply the log transformation to the median_house_value variable using the np.log1p() function.  "
   ]
  },
  {
   "cell_type": "code",
   "execution_count": 37,
   "id": "1c62b7f5-07ee-4f7e-a05b-4c0f53aa5ee9",
   "metadata": {},
   "outputs": [
    {
     "name": "stdout",
     "output_type": "stream",
     "text": [
      "701    431000.0\n",
      "830    217000.0\n",
      "859    247600.0\n",
      "860    283500.0\n",
      "861    216900.0\n",
      "862    282500.0\n",
      "863    295600.0\n",
      "870    300000.0\n",
      "880    269700.0\n",
      "881    231200.0\n",
      "Name: median_house_value, dtype: float64\n",
      "701    12.973866\n",
      "830    12.287657\n",
      "859    12.419574\n",
      "860    12.554971\n",
      "861    12.287196\n",
      "862    12.551437\n",
      "863    12.596766\n",
      "870    12.611541\n",
      "880    12.505069\n",
      "881    12.351043\n",
      "Name: median_house_value, dtype: float64\n"
     ]
    }
   ],
   "source": [
    "print(df_data.median_house_value.iloc[:10])\n",
    "df_data.median_house_value = np.log1p(df_data.median_house_value)\n",
    "print(df_data.median_house_value.iloc[:10])"
   ]
  },
  {
   "cell_type": "code",
   "execution_count": 38,
   "id": "b4c1cf2c-2a94-49f9-9315-670ad4525a04",
   "metadata": {},
   "outputs": [
    {
     "name": "stdout",
     "output_type": "stream",
     "text": [
      "15687\n"
     ]
    }
   ],
   "source": [
    "n = df_data.shape[0]\n",
    "print(n)"
   ]
  },
  {
   "cell_type": "code",
   "execution_count": 39,
   "id": "f16c5106-90c5-4204-b17a-4f2f8a2ace5a",
   "metadata": {},
   "outputs": [
    {
     "name": "stdout",
     "output_type": "stream",
     "text": [
      "9412\n",
      "3137\n",
      "3138\n",
      "15687\n"
     ]
    }
   ],
   "source": [
    "shuffle_idx = np.arange(n)\n",
    "np.random.seed(2)\n",
    "np.random.shuffle(shuffle_idx)\n",
    "\n",
    "percent60 = int(shuffle_idx.size*0.6) # size of 60%\n",
    "percent80 = int(shuffle_idx.size*0.8) # size of 80%\n",
    "\n",
    "df_train =  df_data.iloc[shuffle_idx[:percent60]]\n",
    "df_val   =  df_data.iloc[shuffle_idx[percent60:percent80]]\n",
    "df_test  =  df_data.iloc[shuffle_idx[percent80:]]\n",
    "\n",
    "y_train = df_train.median_house_value.values\n",
    "y_val = df_val.median_house_value.values\n",
    "y_test = df_test.median_house_value.values\n",
    "\n",
    "df_train.drop('median_house_value', axis=1, inplace=True)\n",
    "df_val.drop('median_house_value', axis=1, inplace=True)\n",
    "df_test.drop('median_house_value', axis=1, inplace=True)\n",
    "\n",
    "print(df_train.shape[0])\n",
    "print(df_val.shape[0])\n",
    "print(df_test.shape[0])\n",
    "print(df_train.shape[0] + df_test.shape[0] + df_val.shape[0])\n"
   ]
  },
  {
   "cell_type": "markdown",
   "id": "a6ada3ac-c65f-4386-a759-995515588b4f",
   "metadata": {},
   "source": [
    "### Question 3   \n",
    "We need to deal with missing values for the column from Q1.  \n",
    "We have two options: fill it with 0 or with the mean of this variable.  \n",
    "Try both options. For each, train a linear regression model without regularization using the code from the lessons.  \n",
    "For computing the mean, use the training only!  \n",
    "Use the validation dataset to evaluate the models and compare the RMSE of each option.  \n",
    "Round the RMSE scores to 2 decimal digits using round(score, 2)  \n",
    "Which option gives better RMSE?  \n",
    "Options:  \n",
    "\n",
    "With 0  \n",
    "With mean  \n",
    "Both are equally good  \n"
   ]
  },
  {
   "cell_type": "code",
   "execution_count": 14,
   "id": "74274c9d-a71f-4b67-b937-f57bdb9471d0",
   "metadata": {},
   "outputs": [],
   "source": [
    "def train_linear_regression(X, y):\n",
    "    ones = np.ones(X.shape[0])\n",
    "    X = np.column_stack([ones, X])\n",
    "\n",
    "    XTX = X.T.dot(X)\n",
    "    XTX_inv = np.linalg.inv(XTX)\n",
    "    w_full = XTX_inv.dot(X.T).dot(y)\n",
    "    \n",
    "    return w_full[0], w_full[1:]"
   ]
  },
  {
   "cell_type": "code",
   "execution_count": 15,
   "id": "737ff805-6e6e-4696-a70a-c339dc118e26",
   "metadata": {},
   "outputs": [],
   "source": [
    "def rmse(y, y_pred):\n",
    "    se = (y - y_pred) ** 2\n",
    "    mse = se.mean()\n",
    "    return np.sqrt(mse)"
   ]
  },
  {
   "cell_type": "code",
   "execution_count": 16,
   "id": "a2917521-fcc4-40dc-9a23-08f424cd212f",
   "metadata": {},
   "outputs": [
    {
     "data": {
      "text/plain": [
       "latitude              0\n",
       "longitude             0\n",
       "housing_median_age    0\n",
       "total_rooms           0\n",
       "total_bedrooms        0\n",
       "population            0\n",
       "households            0\n",
       "median_income         0\n",
       "dtype: int64"
      ]
     },
     "execution_count": 16,
     "metadata": {},
     "output_type": "execute_result"
    }
   ],
   "source": [
    "# model 1 : fill missing values with 0\n",
    "df_train_1, df_val_1, df_test_1 = df_train, df_val, df_test\n",
    "df_train_1.total_bedrooms.fillna(0.0, inplace=True)\n",
    "df_val_1.total_bedrooms.fillna(0.0, inplace=True)\n",
    "df_train_1.isnull().sum()"
   ]
  },
  {
   "cell_type": "code",
   "execution_count": 17,
   "id": "45e24f3e-b985-4469-9c20-4fdf8bd83890",
   "metadata": {},
   "outputs": [],
   "source": [
    "X_train_1 = df_train_1.values\n",
    "X_val_1 = df_val_1.values\n",
    "\n",
    "w0, w = train_linear_regression(X_train_1, y_train)\n",
    "\n",
    "y_pred_1 = w0 + X_val_1.dot(w)"
   ]
  },
  {
   "cell_type": "code",
   "execution_count": 18,
   "id": "1e7dc4b9-cdf3-44d7-9a11-67555d2ade6e",
   "metadata": {},
   "outputs": [
    {
     "data": {
      "text/plain": [
       "0.0003033879785717586"
      ]
     },
     "execution_count": 18,
     "metadata": {},
     "output_type": "execute_result"
    }
   ],
   "source": [
    "w[4]"
   ]
  },
  {
   "cell_type": "code",
   "execution_count": 19,
   "id": "376b39f3-fcbd-408a-af54-ba6819fc542d",
   "metadata": {},
   "outputs": [
    {
     "name": "stdout",
     "output_type": "stream",
     "text": [
      "533.4771568210795\n"
     ]
    },
    {
     "data": {
      "text/plain": [
       "latitude              0\n",
       "longitude             0\n",
       "housing_median_age    0\n",
       "total_rooms           0\n",
       "total_bedrooms        0\n",
       "population            0\n",
       "households            0\n",
       "median_income         0\n",
       "dtype: int64"
      ]
     },
     "execution_count": 19,
     "metadata": {},
     "output_type": "execute_result"
    }
   ],
   "source": [
    "# model 2 : fill missing values with 0\n",
    "df_train_2, df_val_2, df_test_2 = df_train, df_val, df_test\n",
    "mean_bedroom = df_train_2.total_bedrooms.mean()\n",
    "print(mean_bedroom)\n",
    "df_train_2.total_bedrooms.fillna(mean_bedroom, inplace=True)\n",
    "df_val_2.total_bedrooms.fillna(mean_bedroom, inplace=True)\n",
    "df_train_2.isnull().sum()"
   ]
  },
  {
   "cell_type": "code",
   "execution_count": 20,
   "id": "b83053db-ddf7-4b03-879f-b0533c1a83a2",
   "metadata": {},
   "outputs": [],
   "source": [
    "X_train_2 = df_train_2.values\n",
    "X_val_2 = df_val_2.values\n",
    "\n",
    "w0, w = train_linear_regression(X_train_2, y_train)\n",
    "\n",
    "y_pred_2 = w0 + X_val_2.dot(w)"
   ]
  },
  {
   "cell_type": "code",
   "execution_count": 21,
   "id": "872f4b9e-5617-4302-84cf-4399622b8db1",
   "metadata": {},
   "outputs": [
    {
     "data": {
      "text/plain": [
       "0.0003033879785717586"
      ]
     },
     "execution_count": 21,
     "metadata": {},
     "output_type": "execute_result"
    }
   ],
   "source": [
    "w[4]"
   ]
  },
  {
   "cell_type": "code",
   "execution_count": 22,
   "id": "ba8fe214-24eb-4f52-ba71-ddd06c864e6d",
   "metadata": {},
   "outputs": [
    {
     "data": {
      "text/plain": [
       "<Axes: ylabel='Count'>"
      ]
     },
     "execution_count": 22,
     "metadata": {},
     "output_type": "execute_result"
    },
    {
     "data": {
      "image/png": "[encoded data removed]",
      "text/plain": [
       "<Figure size 640x480 with 1 Axes>"
      ]
     },
     "metadata": {},
     "output_type": "display_data"
    }
   ],
   "source": [
    "sns.histplot(y_pred_1, color='green', alpha=0.5, bins=100)\n",
    "sns.histplot(y_pred_2, color='red', alpha=0.5, bins=100)\n",
    "sns.histplot(y_val, color='blue', alpha=0.5, bins=100)"
   ]
  },
  {
   "cell_type": "code",
   "execution_count": 33,
   "id": "72c0a893-a520-496b-a0e0-308029095cf6",
   "metadata": {},
   "outputs": [
    {
     "name": "stdout",
     "output_type": "stream",
     "text": [
      "0.7246868081466165\n",
      "0.7246868081466165\n"
     ]
    }
   ],
   "source": [
    "#model 1\n",
    "print(rmse(y_val, y_pred_1))\n",
    "#model 2\n",
    "print(rmse(y_val, y_pred_2))"
   ]
  },
  {
   "cell_type": "markdown",
   "id": "835870a2-ab3d-4378-93c8-90c32ba2a5c9",
   "metadata": {},
   "source": [
    "### Question 4  \n",
    "Now let's train a regularized linear regression.  \n",
    "For this question, fill the NAs with 0.  \n",
    "Try different values of r from this list: [0, 0.000001, 0.0001, 0.001, 0.01, 0.1, 1, 5, 10].  \n",
    "Use RMSE to evaluate the model on the validation dataset.  \n",
    "Round the RMSE scores to 2 decimal digits.  \n",
    "Which r gives the best RMSE?  \n",
    "If there are multiple options, select the smallest r.  \n",
    "\n",
    "Options:  \n",
    "  \n",
    "0  \n",
    "0.000001  \n",
    "0.001  \n",
    "0.0001  \n"
   ]
  },
  {
   "cell_type": "code",
   "execution_count": 24,
   "id": "b6f8ad04-f18d-450b-9b50-bdf60e56cb63",
   "metadata": {},
   "outputs": [],
   "source": [
    "def train_linear_regression_reg(X, y, r=0.001):\n",
    "    ones = np.ones(X.shape[0])\n",
    "    X = np.column_stack([ones, X])\n",
    "\n",
    "    XTX = X.T.dot(X)\n",
    "    XTX = XTX + r * np.eye(XTX.shape[0])\n",
    "\n",
    "    XTX_inv = np.linalg.inv(XTX)\n",
    "    w_full = XTX_inv.dot(X.T).dot(y)\n",
    "    \n",
    "    return w_full[0], w_full[1:]"
   ]
  },
  {
   "cell_type": "code",
   "execution_count": 40,
   "id": "568140a4-03ce-4b1c-b95d-1b9e86905d41",
   "metadata": {},
   "outputs": [
    {
     "name": "stdout",
     "output_type": "stream",
     "text": [
      "for reg. : 0, intercect: -9.91480350398978, rmse: 0.338\n",
      "for reg. : 1e-06, intercect: -9.914782312520927, rmse: 0.338\n",
      "for reg. : 0.0001, intercect: -9.912684797638116, rmse: 0.338\n",
      "for reg. : 0.001, intercect: -9.893657097212976, rmse: 0.338\n"
     ]
    }
   ],
   "source": [
    "for r in [0, 0.000001, 0.0001, 0.001]:\n",
    "    w0, w = train_linear_regression_reg(X_train_1, y_train, r=r)\n",
    "    y_pred = w0 + X_val_1.dot(w)\n",
    "    score = rmse(y_val, y_pred)\n",
    "    \n",
    "    print(f'for reg. : {r}, intercect: {w0}, rmse: {score:.3}')"
   ]
  },
  {
   "cell_type": "code",
   "execution_count": 28,
   "id": "f4a9df52-d790-41ff-9bd0-22aad5180a12",
   "metadata": {},
   "outputs": [],
   "source": [
    "def create_datasets(n, df_data, random_seed):\n",
    "    huffle_idx = np.arange(n)\n",
    "    np.random.seed(random_seed)\n",
    "    np.random.shuffle(shuffle_idx)\n",
    "    \n",
    "    percent60 = int(shuffle_idx.size*0.6) # size of 60%\n",
    "    percent80 = int(shuffle_idx.size*0.8) # size of 80%\n",
    "    \n",
    "    df_train =  df_data.iloc[shuffle_idx[:percent60]]\n",
    "    df_val   =  df_data.iloc[shuffle_idx[percent60:percent80]]\n",
    "    df_test  =  df_data.iloc[shuffle_idx[percent80:]]\n",
    "    \n",
    "    y_train = df_train.median_house_value.values\n",
    "    y_val = df_val.median_house_value.values\n",
    "    y_test = df_test.median_house_value.values\n",
    "    \n",
    "    df_train.drop('median_house_value', axis=1, inplace=True)\n",
    "    df_val.drop('median_house_value', axis=1, inplace=True)\n",
    "    df_test.drop('median_house_value', axis=1, inplace=True)\n",
    "\n",
    "    df_train.total_bedrooms.fillna(0.0, inplace=True)\n",
    "    df_val.total_bedrooms.fillna(0.0, inplace=True)\n",
    "    df_test.total_bedrooms.fillna(0.0, inplace=True)\n",
    "\n",
    "    return df_train.values, y_train, df_val.values, y_val, df_test.values, y_test"
   ]
  },
  {
   "cell_type": "code",
   "execution_count": 41,
   "id": "0693b875-108a-4c32-aad1-ea2639dc7558",
   "metadata": {},
   "outputs": [
    {
     "name": "stdout",
     "output_type": "stream",
     "text": [
      "for random_seed : 0, intercect: -10.206128152412258, rmse: 0.3445825200665128\n",
      "for random_seed : 1, intercect: -10.128018701703683, rmse: 0.3428404981685552\n",
      "for random_seed : 2, intercect: -9.926440850271865, rmse: 0.33845047702027176\n",
      "for random_seed : 3, intercect: -9.908769185853913, rmse: 0.33241591218493877\n",
      "for random_seed : 4, intercect: -9.592927050065137, rmse: 0.3349519061221672\n",
      "for random_seed : 5, intercect: -9.677141116896413, rmse: 0.3356795105342621\n",
      "for random_seed : 6, intercect: -9.899292440118291, rmse: 0.342057590151616\n",
      "for random_seed : 7, intercect: -9.973860635110974, rmse: 0.3337976159900165\n",
      "for random_seed : 8, intercect: -10.196479046954845, rmse: 0.3443619688047981\n",
      "for random_seed : 9, intercect: -9.98039149171813, rmse: 0.3471256669679526\n",
      "The random seed std is :0.005\n"
     ]
    }
   ],
   "source": [
    "rmse_list = []\n",
    "for random_seed in [0, 1, 2, 3, 4, 5, 6, 7, 8, 9] : \n",
    "    X_train, y_train, X_val, y_val, X_test, y_test = create_datasets(n, df_data, random_seed)\n",
    "    w0, w = train_linear_regression(X_train, y_train)\n",
    "\n",
    "    y_pred = w0 + X_val.dot(w)\n",
    "    score = rmse(y_val, y_pred)\n",
    "    rmse_list.append(score)\n",
    "    print(f'for random_seed : {random_seed}, intercect: {w0}, rmse: {score}')\n",
    "\n",
    "rnd_std = np.std(rmse_list)\n",
    "print(f'The random seed std is :{round(rnd_std, 3)}')"
   ]
  },
  {
   "cell_type": "code",
   "execution_count": 31,
   "id": "7be2e24e-f2e5-41dd-8e5b-f255a4b8d487",
   "metadata": {},
   "outputs": [
    {
     "name": "stdout",
     "output_type": "stream",
     "text": [
      "for random_seed : 9, intercect: -9.755394176732016, rmse: 0.337\n"
     ]
    }
   ],
   "source": [
    "random_seed = 9\n",
    "X_train, y_train, X_val, y_val, X_test, y_test = create_datasets(n, df_data, random_seed)\n",
    "w0, w = train_linear_regression_reg(np.concatenate((X_train,X_val), axis=0), np.concatenate((y_train, y_val), axis=0), r=0.001)\n",
    "\n",
    "y_pred = w0 + X_val.dot(w)\n",
    "score = rmse(y_val, y_pred)\n",
    "\n",
    "print(f'for random_seed : {random_seed}, intercect: {w0}, rmse: {score:.3}')\n"
   ]
  },
  {
   "cell_type": "code",
   "execution_count": null,
   "id": "29426cc8-434c-4c8e-a75e-b093e477974e",
   "metadata": {},
   "outputs": [],
   "source": []
  }
 ],
 "metadata": {
  "kernelspec": {
   "display_name": "Python 3 (ipykernel)",
   "language": "python",
   "name": "python3"
  },
  "language_info": {
   "codemirror_mode": {
    "name": "ipython",
    "version": 3
   },
   "file_extension": ".py",
   "mimetype": "text/x-python",
   "name": "python",
   "nbconvert_exporter": "python",
   "pygments_lexer": "ipython3",
   "version": "3.11.0"
  }
 },
 "nbformat": 4,
 "nbformat_minor": 5
}
